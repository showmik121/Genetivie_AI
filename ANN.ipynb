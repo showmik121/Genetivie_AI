{
  "nbformat": 4,
  "nbformat_minor": 0,
  "metadata": {
    "colab": {
      "provenance": [],
      "gpuType": "T4",
      "authorship_tag": "ABX9TyM3IjjZIfHVDkv1HMXbe47R",
      "include_colab_link": true
    },
    "kernelspec": {
      "name": "python3",
      "display_name": "Python 3"
    },
    "language_info": {
      "name": "python"
    },
    "accelerator": "GPU"
  },
  "cells": [
    {
      "cell_type": "markdown",
      "metadata": {
        "id": "view-in-github",
        "colab_type": "text"
      },
      "source": [
        "<a href=\"https://colab.research.google.com/github/showmik121/Genetivie_AI/blob/main/ANN.ipynb\" target=\"_parent\"><img src=\"https://colab.research.google.com/assets/colab-badge.svg\" alt=\"Open In Colab\"/></a>"
      ]
    },
    {
      "cell_type": "markdown",
      "source": [
        "# Building ANN using pytorch\n"
      ],
      "metadata": {
        "id": "y_HDgwkgO8wx"
      }
    },
    {
      "cell_type": "code",
      "execution_count": 1,
      "metadata": {
        "id": "TmmB4tHuOpYd"
      },
      "outputs": [],
      "source": [
        "import pandas as pd\n",
        "from sklearn.model_selection import train_test_split\n",
        "from sklearn.preprocessing import StandardScaler\n",
        "import torch\n",
        "import torch.nn as nn\n",
        "import torch.optim as optim\n",
        "from torch.utils.data import DataLoader, TensorDataset,Dataset\n",
        "import matplotlib.pyplot as plt"
      ]
    },
    {
      "cell_type": "code",
      "source": [
        "# set random seeds for reproducibility\n",
        "torch.manual_seed(42)"
      ],
      "metadata": {
        "colab": {
          "base_uri": "https://localhost:8080/"
        },
        "id": "eHGcvhkczxI6",
        "outputId": "834e2e9b-1de9-4eac-ad34-15ca2739559a"
      },
      "execution_count": 2,
      "outputs": [
        {
          "output_type": "execute_result",
          "data": {
            "text/plain": [
              "<torch._C.Generator at 0x78e3c0fb5790>"
            ]
          },
          "metadata": {},
          "execution_count": 2
        }
      ]
    },
    {
      "cell_type": "code",
      "source": [
        "df=pd.read_csv('fmnist_small.csv')\n",
        "df.head()"
      ],
      "metadata": {
        "colab": {
          "base_uri": "https://localhost:8080/",
          "height": 255
        },
        "id": "EsXf8q6L0ECz",
        "outputId": "896e97d4-17a0-48b0-854b-d207bd0072d0"
      },
      "execution_count": 5,
      "outputs": [
        {
          "output_type": "execute_result",
          "data": {
            "text/plain": [
              "   label  pixel1  pixel2  pixel3  pixel4  pixel5  pixel6  pixel7  pixel8  \\\n",
              "0      9       0       0       0       0       0       0       0       0   \n",
              "1      7       0       0       0       0       0       0       0       0   \n",
              "2      0       0       0       0       0       0       1       0       0   \n",
              "3      8       0       0       0       0       0       0       0       0   \n",
              "4      8       0       0       0       0       0       0       0       0   \n",
              "\n",
              "   pixel9  ...  pixel775  pixel776  pixel777  pixel778  pixel779  pixel780  \\\n",
              "0       0  ...         0         7         0        50       205       196   \n",
              "1       0  ...         0         0         0         0         0         0   \n",
              "2       0  ...       142       142       142        21         0         3   \n",
              "3       0  ...         0         0         0         0         0         0   \n",
              "4       0  ...       213       203       174       151       188        10   \n",
              "\n",
              "   pixel781  pixel782  pixel783  pixel784  \n",
              "0       213       165         0         0  \n",
              "1         0         0         0         0  \n",
              "2         0         0         0         0  \n",
              "3         0         0         0         0  \n",
              "4         0         0         0         0  \n",
              "\n",
              "[5 rows x 785 columns]"
            ],
            "text/html": [
              "\n",
              "  <div id=\"df-a9db3383-10e6-4968-8042-1dda5242467e\" class=\"colab-df-container\">\n",
              "    <div>\n",
              "<style scoped>\n",
              "    .dataframe tbody tr th:only-of-type {\n",
              "        vertical-align: middle;\n",
              "    }\n",
              "\n",
              "    .dataframe tbody tr th {\n",
              "        vertical-align: top;\n",
              "    }\n",
              "\n",
              "    .dataframe thead th {\n",
              "        text-align: right;\n",
              "    }\n",
              "</style>\n",
              "<table border=\"1\" class=\"dataframe\">\n",
              "  <thead>\n",
              "    <tr style=\"text-align: right;\">\n",
              "      <th></th>\n",
              "      <th>label</th>\n",
              "      <th>pixel1</th>\n",
              "      <th>pixel2</th>\n",
              "      <th>pixel3</th>\n",
              "      <th>pixel4</th>\n",
              "      <th>pixel5</th>\n",
              "      <th>pixel6</th>\n",
              "      <th>pixel7</th>\n",
              "      <th>pixel8</th>\n",
              "      <th>pixel9</th>\n",
              "      <th>...</th>\n",
              "      <th>pixel775</th>\n",
              "      <th>pixel776</th>\n",
              "      <th>pixel777</th>\n",
              "      <th>pixel778</th>\n",
              "      <th>pixel779</th>\n",
              "      <th>pixel780</th>\n",
              "      <th>pixel781</th>\n",
              "      <th>pixel782</th>\n",
              "      <th>pixel783</th>\n",
              "      <th>pixel784</th>\n",
              "    </tr>\n",
              "  </thead>\n",
              "  <tbody>\n",
              "    <tr>\n",
              "      <th>0</th>\n",
              "      <td>9</td>\n",
              "      <td>0</td>\n",
              "      <td>0</td>\n",
              "      <td>0</td>\n",
              "      <td>0</td>\n",
              "      <td>0</td>\n",
              "      <td>0</td>\n",
              "      <td>0</td>\n",
              "      <td>0</td>\n",
              "      <td>0</td>\n",
              "      <td>...</td>\n",
              "      <td>0</td>\n",
              "      <td>7</td>\n",
              "      <td>0</td>\n",
              "      <td>50</td>\n",
              "      <td>205</td>\n",
              "      <td>196</td>\n",
              "      <td>213</td>\n",
              "      <td>165</td>\n",
              "      <td>0</td>\n",
              "      <td>0</td>\n",
              "    </tr>\n",
              "    <tr>\n",
              "      <th>1</th>\n",
              "      <td>7</td>\n",
              "      <td>0</td>\n",
              "      <td>0</td>\n",
              "      <td>0</td>\n",
              "      <td>0</td>\n",
              "      <td>0</td>\n",
              "      <td>0</td>\n",
              "      <td>0</td>\n",
              "      <td>0</td>\n",
              "      <td>0</td>\n",
              "      <td>...</td>\n",
              "      <td>0</td>\n",
              "      <td>0</td>\n",
              "      <td>0</td>\n",
              "      <td>0</td>\n",
              "      <td>0</td>\n",
              "      <td>0</td>\n",
              "      <td>0</td>\n",
              "      <td>0</td>\n",
              "      <td>0</td>\n",
              "      <td>0</td>\n",
              "    </tr>\n",
              "    <tr>\n",
              "      <th>2</th>\n",
              "      <td>0</td>\n",
              "      <td>0</td>\n",
              "      <td>0</td>\n",
              "      <td>0</td>\n",
              "      <td>0</td>\n",
              "      <td>0</td>\n",
              "      <td>1</td>\n",
              "      <td>0</td>\n",
              "      <td>0</td>\n",
              "      <td>0</td>\n",
              "      <td>...</td>\n",
              "      <td>142</td>\n",
              "      <td>142</td>\n",
              "      <td>142</td>\n",
              "      <td>21</td>\n",
              "      <td>0</td>\n",
              "      <td>3</td>\n",
              "      <td>0</td>\n",
              "      <td>0</td>\n",
              "      <td>0</td>\n",
              "      <td>0</td>\n",
              "    </tr>\n",
              "    <tr>\n",
              "      <th>3</th>\n",
              "      <td>8</td>\n",
              "      <td>0</td>\n",
              "      <td>0</td>\n",
              "      <td>0</td>\n",
              "      <td>0</td>\n",
              "      <td>0</td>\n",
              "      <td>0</td>\n",
              "      <td>0</td>\n",
              "      <td>0</td>\n",
              "      <td>0</td>\n",
              "      <td>...</td>\n",
              "      <td>0</td>\n",
              "      <td>0</td>\n",
              "      <td>0</td>\n",
              "      <td>0</td>\n",
              "      <td>0</td>\n",
              "      <td>0</td>\n",
              "      <td>0</td>\n",
              "      <td>0</td>\n",
              "      <td>0</td>\n",
              "      <td>0</td>\n",
              "    </tr>\n",
              "    <tr>\n",
              "      <th>4</th>\n",
              "      <td>8</td>\n",
              "      <td>0</td>\n",
              "      <td>0</td>\n",
              "      <td>0</td>\n",
              "      <td>0</td>\n",
              "      <td>0</td>\n",
              "      <td>0</td>\n",
              "      <td>0</td>\n",
              "      <td>0</td>\n",
              "      <td>0</td>\n",
              "      <td>...</td>\n",
              "      <td>213</td>\n",
              "      <td>203</td>\n",
              "      <td>174</td>\n",
              "      <td>151</td>\n",
              "      <td>188</td>\n",
              "      <td>10</td>\n",
              "      <td>0</td>\n",
              "      <td>0</td>\n",
              "      <td>0</td>\n",
              "      <td>0</td>\n",
              "    </tr>\n",
              "  </tbody>\n",
              "</table>\n",
              "<p>5 rows × 785 columns</p>\n",
              "</div>\n",
              "    <div class=\"colab-df-buttons\">\n",
              "\n",
              "  <div class=\"colab-df-container\">\n",
              "    <button class=\"colab-df-convert\" onclick=\"convertToInteractive('df-a9db3383-10e6-4968-8042-1dda5242467e')\"\n",
              "            title=\"Convert this dataframe to an interactive table.\"\n",
              "            style=\"display:none;\">\n",
              "\n",
              "  <svg xmlns=\"http://www.w3.org/2000/svg\" height=\"24px\" viewBox=\"0 -960 960 960\">\n",
              "    <path d=\"M120-120v-720h720v720H120Zm60-500h600v-160H180v160Zm220 220h160v-160H400v160Zm0 220h160v-160H400v160ZM180-400h160v-160H180v160Zm440 0h160v-160H620v160ZM180-180h160v-160H180v160Zm440 0h160v-160H620v160Z\"/>\n",
              "  </svg>\n",
              "    </button>\n",
              "\n",
              "  <style>\n",
              "    .colab-df-container {\n",
              "      display:flex;\n",
              "      gap: 12px;\n",
              "    }\n",
              "\n",
              "    .colab-df-convert {\n",
              "      background-color: #E8F0FE;\n",
              "      border: none;\n",
              "      border-radius: 50%;\n",
              "      cursor: pointer;\n",
              "      display: none;\n",
              "      fill: #1967D2;\n",
              "      height: 32px;\n",
              "      padding: 0 0 0 0;\n",
              "      width: 32px;\n",
              "    }\n",
              "\n",
              "    .colab-df-convert:hover {\n",
              "      background-color: #E2EBFA;\n",
              "      box-shadow: 0px 1px 2px rgba(60, 64, 67, 0.3), 0px 1px 3px 1px rgba(60, 64, 67, 0.15);\n",
              "      fill: #174EA6;\n",
              "    }\n",
              "\n",
              "    .colab-df-buttons div {\n",
              "      margin-bottom: 4px;\n",
              "    }\n",
              "\n",
              "    [theme=dark] .colab-df-convert {\n",
              "      background-color: #3B4455;\n",
              "      fill: #D2E3FC;\n",
              "    }\n",
              "\n",
              "    [theme=dark] .colab-df-convert:hover {\n",
              "      background-color: #434B5C;\n",
              "      box-shadow: 0px 1px 3px 1px rgba(0, 0, 0, 0.15);\n",
              "      filter: drop-shadow(0px 1px 2px rgba(0, 0, 0, 0.3));\n",
              "      fill: #FFFFFF;\n",
              "    }\n",
              "  </style>\n",
              "\n",
              "    <script>\n",
              "      const buttonEl =\n",
              "        document.querySelector('#df-a9db3383-10e6-4968-8042-1dda5242467e button.colab-df-convert');\n",
              "      buttonEl.style.display =\n",
              "        google.colab.kernel.accessAllowed ? 'block' : 'none';\n",
              "\n",
              "      async function convertToInteractive(key) {\n",
              "        const element = document.querySelector('#df-a9db3383-10e6-4968-8042-1dda5242467e');\n",
              "        const dataTable =\n",
              "          await google.colab.kernel.invokeFunction('convertToInteractive',\n",
              "                                                    [key], {});\n",
              "        if (!dataTable) return;\n",
              "\n",
              "        const docLinkHtml = 'Like what you see? Visit the ' +\n",
              "          '<a target=\"_blank\" href=https://colab.research.google.com/notebooks/data_table.ipynb>data table notebook</a>'\n",
              "          + ' to learn more about interactive tables.';\n",
              "        element.innerHTML = '';\n",
              "        dataTable['output_type'] = 'display_data';\n",
              "        await google.colab.output.renderOutput(dataTable, element);\n",
              "        const docLink = document.createElement('div');\n",
              "        docLink.innerHTML = docLinkHtml;\n",
              "        element.appendChild(docLink);\n",
              "      }\n",
              "    </script>\n",
              "  </div>\n",
              "\n",
              "\n",
              "<div id=\"df-b3306c7c-70d5-41d5-afd2-68110cd04a04\">\n",
              "  <button class=\"colab-df-quickchart\" onclick=\"quickchart('df-b3306c7c-70d5-41d5-afd2-68110cd04a04')\"\n",
              "            title=\"Suggest charts\"\n",
              "            style=\"display:none;\">\n",
              "\n",
              "<svg xmlns=\"http://www.w3.org/2000/svg\" height=\"24px\"viewBox=\"0 0 24 24\"\n",
              "     width=\"24px\">\n",
              "    <g>\n",
              "        <path d=\"M19 3H5c-1.1 0-2 .9-2 2v14c0 1.1.9 2 2 2h14c1.1 0 2-.9 2-2V5c0-1.1-.9-2-2-2zM9 17H7v-7h2v7zm4 0h-2V7h2v10zm4 0h-2v-4h2v4z\"/>\n",
              "    </g>\n",
              "</svg>\n",
              "  </button>\n",
              "\n",
              "<style>\n",
              "  .colab-df-quickchart {\n",
              "      --bg-color: #E8F0FE;\n",
              "      --fill-color: #1967D2;\n",
              "      --hover-bg-color: #E2EBFA;\n",
              "      --hover-fill-color: #174EA6;\n",
              "      --disabled-fill-color: #AAA;\n",
              "      --disabled-bg-color: #DDD;\n",
              "  }\n",
              "\n",
              "  [theme=dark] .colab-df-quickchart {\n",
              "      --bg-color: #3B4455;\n",
              "      --fill-color: #D2E3FC;\n",
              "      --hover-bg-color: #434B5C;\n",
              "      --hover-fill-color: #FFFFFF;\n",
              "      --disabled-bg-color: #3B4455;\n",
              "      --disabled-fill-color: #666;\n",
              "  }\n",
              "\n",
              "  .colab-df-quickchart {\n",
              "    background-color: var(--bg-color);\n",
              "    border: none;\n",
              "    border-radius: 50%;\n",
              "    cursor: pointer;\n",
              "    display: none;\n",
              "    fill: var(--fill-color);\n",
              "    height: 32px;\n",
              "    padding: 0;\n",
              "    width: 32px;\n",
              "  }\n",
              "\n",
              "  .colab-df-quickchart:hover {\n",
              "    background-color: var(--hover-bg-color);\n",
              "    box-shadow: 0 1px 2px rgba(60, 64, 67, 0.3), 0 1px 3px 1px rgba(60, 64, 67, 0.15);\n",
              "    fill: var(--button-hover-fill-color);\n",
              "  }\n",
              "\n",
              "  .colab-df-quickchart-complete:disabled,\n",
              "  .colab-df-quickchart-complete:disabled:hover {\n",
              "    background-color: var(--disabled-bg-color);\n",
              "    fill: var(--disabled-fill-color);\n",
              "    box-shadow: none;\n",
              "  }\n",
              "\n",
              "  .colab-df-spinner {\n",
              "    border: 2px solid var(--fill-color);\n",
              "    border-color: transparent;\n",
              "    border-bottom-color: var(--fill-color);\n",
              "    animation:\n",
              "      spin 1s steps(1) infinite;\n",
              "  }\n",
              "\n",
              "  @keyframes spin {\n",
              "    0% {\n",
              "      border-color: transparent;\n",
              "      border-bottom-color: var(--fill-color);\n",
              "      border-left-color: var(--fill-color);\n",
              "    }\n",
              "    20% {\n",
              "      border-color: transparent;\n",
              "      border-left-color: var(--fill-color);\n",
              "      border-top-color: var(--fill-color);\n",
              "    }\n",
              "    30% {\n",
              "      border-color: transparent;\n",
              "      border-left-color: var(--fill-color);\n",
              "      border-top-color: var(--fill-color);\n",
              "      border-right-color: var(--fill-color);\n",
              "    }\n",
              "    40% {\n",
              "      border-color: transparent;\n",
              "      border-right-color: var(--fill-color);\n",
              "      border-top-color: var(--fill-color);\n",
              "    }\n",
              "    60% {\n",
              "      border-color: transparent;\n",
              "      border-right-color: var(--fill-color);\n",
              "    }\n",
              "    80% {\n",
              "      border-color: transparent;\n",
              "      border-right-color: var(--fill-color);\n",
              "      border-bottom-color: var(--fill-color);\n",
              "    }\n",
              "    90% {\n",
              "      border-color: transparent;\n",
              "      border-bottom-color: var(--fill-color);\n",
              "    }\n",
              "  }\n",
              "</style>\n",
              "\n",
              "  <script>\n",
              "    async function quickchart(key) {\n",
              "      const quickchartButtonEl =\n",
              "        document.querySelector('#' + key + ' button');\n",
              "      quickchartButtonEl.disabled = true;  // To prevent multiple clicks.\n",
              "      quickchartButtonEl.classList.add('colab-df-spinner');\n",
              "      try {\n",
              "        const charts = await google.colab.kernel.invokeFunction(\n",
              "            'suggestCharts', [key], {});\n",
              "      } catch (error) {\n",
              "        console.error('Error during call to suggestCharts:', error);\n",
              "      }\n",
              "      quickchartButtonEl.classList.remove('colab-df-spinner');\n",
              "      quickchartButtonEl.classList.add('colab-df-quickchart-complete');\n",
              "    }\n",
              "    (() => {\n",
              "      let quickchartButtonEl =\n",
              "        document.querySelector('#df-b3306c7c-70d5-41d5-afd2-68110cd04a04 button');\n",
              "      quickchartButtonEl.style.display =\n",
              "        google.colab.kernel.accessAllowed ? 'block' : 'none';\n",
              "    })();\n",
              "  </script>\n",
              "</div>\n",
              "\n",
              "    </div>\n",
              "  </div>\n"
            ],
            "application/vnd.google.colaboratory.intrinsic+json": {
              "type": "dataframe",
              "variable_name": "df"
            }
          },
          "metadata": {},
          "execution_count": 5
        }
      ]
    },
    {
      "cell_type": "code",
      "source": [
        "# create a 4x4 graid of images\n",
        "fig, axes = plt.subplots(4, 4, figsize=(10, 10))\n",
        "fig.suptitle(\"first 16 images\", fontsize=16)\n",
        "axes = axes.flatten()\n",
        "for i, ax in enumerate(axes.flat):\n",
        "    img = df.iloc[i, 1:].values.reshape(28, 28)\n",
        "    ax.imshow(img, cmap='gray')\n",
        "    ax.axis('off')\n",
        "    ax.set_title(df.iloc[i, 0])\n",
        "plt.tight_layout(rect=[0,0,1,0.96])\n",
        "plt.show()"
      ],
      "metadata": {
        "colab": {
          "base_uri": "https://localhost:8080/",
          "height": 1000
        },
        "id": "1_g8negZ1Dgq",
        "outputId": "2b5404a7-bb3a-4bb5-c9b7-8707740a7032"
      },
      "execution_count": 6,
      "outputs": [
        {
          "output_type": "display_data",
          "data": {
            "text/plain": [
              "<Figure size 1000x1000 with 16 Axes>"
            ],
            "image/png": "[encoded data removed]"
          },
          "metadata": {}
        }
      ]
    },
    {
      "cell_type": "code",
      "source": [
        "# train text spilt\n",
        "x=df.iloc[:,1:].values\n",
        "y=df.iloc[:,0].values\n",
        "x_train,x_test,y_train,y_test=train_test_split(x,y,test_size=0.2,random_state=42)"
      ],
      "metadata": {
        "id": "m__uYrMM2KJY"
      },
      "execution_count": 7,
      "outputs": []
    },
    {
      "cell_type": "code",
      "source": [
        "# scaling the feautures\n",
        "x_train=x_train/255.0\n",
        "x_test=x_test/255.0\n"
      ],
      "metadata": {
        "id": "ENbdFgrkBOaO"
      },
      "execution_count": 8,
      "outputs": []
    },
    {
      "cell_type": "code",
      "source": [
        "x_train"
      ],
      "metadata": {
        "colab": {
          "base_uri": "https://localhost:8080/"
        },
        "id": "OJqsRGGjCews",
        "outputId": "b8ca64e4-31e0-4b5f-868b-84b4d87932ba"
      },
      "execution_count": 9,
      "outputs": [
        {
          "output_type": "execute_result",
          "data": {
            "text/plain": [
              "array([[0.       , 0.       , 0.       , ..., 0.       , 0.       ,\n",
              "        0.       ],\n",
              "       [0.       , 0.       , 0.       , ..., 0.       , 0.       ,\n",
              "        0.       ],\n",
              "       [0.       , 0.       , 0.       , ..., 0.       , 0.       ,\n",
              "        0.       ],\n",
              "       ...,\n",
              "       [0.       , 0.       , 0.       , ..., 0.       , 0.       ,\n",
              "        0.       ],\n",
              "       [0.       , 0.       , 0.       , ..., 0.       , 0.       ,\n",
              "        0.       ],\n",
              "       [0.       , 0.       , 0.       , ..., 0.0627451, 0.       ,\n",
              "        0.       ]])"
            ]
          },
          "metadata": {},
          "execution_count": 9
        }
      ]
    },
    {
      "cell_type": "code",
      "source": [
        "# create customDataset class\n",
        "class CustomDataset(Dataset):\n",
        "    def __init__(self,feautures,labels):\n",
        "        self.feautures=torch.tensor(feautures,dtype=torch.float32)\n",
        "        self.labels=torch.tensor(labels,dtype=torch.long)\n",
        "\n",
        "    def __len__(self):\n",
        "        return len(self.feautures)\n",
        "\n",
        "    def __getitem__(self,idx):\n",
        "       return self.feautures[idx],self.labels[idx]\n",
        "\n"
      ],
      "metadata": {
        "id": "DWcSxXY-CnOr"
      },
      "execution_count": 28,
      "outputs": []
    },
    {
      "cell_type": "code",
      "source": [
        "# create train_dataset object\n",
        "train_dataset=CustomDataset(x_train,y_train)\n"
      ],
      "metadata": {
        "id": "XeSfv8DBD8to"
      },
      "execution_count": 29,
      "outputs": []
    },
    {
      "cell_type": "code",
      "source": [
        "# create test_dataset object\n",
        "test_dataset=CustomDataset(x_test,y_test)"
      ],
      "metadata": {
        "id": "xSL_EHGCFNQ2"
      },
      "execution_count": 30,
      "outputs": []
    },
    {
      "cell_type": "code",
      "source": [
        "# creat train and test loder\n",
        "train_loader=DataLoader(train_dataset,batch_size=32,shuffle=True,num_workers=1)\n",
        "test_loader=DataLoader(test_dataset,batch_size=32,shuffle=False,num_workers=1)"
      ],
      "metadata": {
        "id": "4cRDKIpaFZqE"
      },
      "execution_count": 13,
      "outputs": []
    },
    {
      "source": [
        "# define NN class\n",
        "class MyNN(nn.Module):\n",
        "    def __init__(self,num_features):\n",
        "        super().__init__()\n",
        "        self.model=nn.Sequential(\n",
        "            nn.Linear(num_features,128),\n",
        "            nn.ReLU(),\n",
        "            nn.Linear(128,64),\n",
        "            nn.ReLU(),\n",
        "            nn.Linear(64,10),\n",
        "            nn.Softmax(dim=1)\n",
        "        )\n",
        "\n",
        "    def forward(self,x):\n",
        "        return self.model(x)"
      ],
      "cell_type": "code",
      "metadata": {
        "id": "glWBxHR1x8E1"
      },
      "execution_count": 47,
      "outputs": []
    },
    {
      "cell_type": "code",
      "source": [
        "# instatiate model\n",
        "num_features=x_train.shape[1]\n",
        "model=MyNN(num_features)"
      ],
      "metadata": {
        "id": "yUy5GWk8IIF9"
      },
      "execution_count": 48,
      "outputs": []
    },
    {
      "source": [
        "# loss function and optimizer\n",
        "import torch.optim as optim\n",
        "# Use CrossEntropyLoss for multi-class classification\n",
        "criterion = nn.CrossEntropyLoss()\n",
        "optimizer = optim.SGD(model.parameters(), lr=0.1)"
      ],
      "cell_type": "code",
      "metadata": {
        "id": "LIMZ9uSTyRmU"
      },
      "execution_count": 56,
      "outputs": []
    },
    {
      "source": [
        "# training loop\n",
        "num_epochs = 100\n",
        "\n",
        "for epoch in range(num_epochs):\n",
        "    total_loss = 0\n",
        "    for features, labels in train_loader:\n",
        "        # forward pass\n",
        "        optimizer.zero_grad()  # Gradient Clear\n",
        "        outputs = model(features)\n",
        "        # loss calculate\n",
        "        loss = criterion(outputs, labels)  # Output Shape ঠিক করা\n",
        "        # back pass\n",
        "        loss.backward()\n",
        "        optimizer.step()\n",
        "        total_loss += loss.item()\n",
        "    # Print the loss for each epoch outside the inner loop\n",
        "    print(f'Epoch [{epoch+1}/{num_epochs}], Loss: {total_loss/len(train_loader):.4f}')"
      ],
      "cell_type": "code",
      "metadata": {
        "colab": {
          "base_uri": "https://localhost:8080/"
        },
        "id": "Av1eVYQ0Leps",
        "outputId": "00da5598-ae1c-4eb8-d5f2-72fe8604039c"
      },
      "execution_count": 57,
      "outputs": [
        {
          "output_type": "stream",
          "name": "stdout",
          "text": [
            "Epoch [1/100], Loss: 2.3572\n",
            "Epoch [2/100], Loss: 2.3572\n",
            "Epoch [3/100], Loss: 2.3572\n",
            "Epoch [4/100], Loss: 2.3572\n",
            "Epoch [5/100], Loss: 2.3572\n",
            "Epoch [6/100], Loss: 2.3572\n",
            "Epoch [7/100], Loss: 2.3572\n",
            "Epoch [8/100], Loss: 2.3572\n",
            "Epoch [9/100], Loss: 2.3572\n",
            "Epoch [10/100], Loss: 2.3572\n",
            "Epoch [11/100], Loss: 2.3572\n",
            "Epoch [12/100], Loss: 2.3572\n",
            "Epoch [13/100], Loss: 2.3572\n",
            "Epoch [14/100], Loss: 2.3572\n",
            "Epoch [15/100], Loss: 2.3572\n",
            "Epoch [16/100], Loss: 2.3572\n",
            "Epoch [17/100], Loss: 2.3572\n",
            "Epoch [18/100], Loss: 2.3572\n",
            "Epoch [19/100], Loss: 2.3572\n",
            "Epoch [20/100], Loss: 2.3572\n",
            "Epoch [21/100], Loss: 2.3572\n",
            "Epoch [22/100], Loss: 2.3572\n",
            "Epoch [23/100], Loss: 2.3572\n",
            "Epoch [24/100], Loss: 2.3572\n",
            "Epoch [25/100], Loss: 2.3572\n",
            "Epoch [26/100], Loss: 2.3572\n",
            "Epoch [27/100], Loss: 2.3572\n",
            "Epoch [28/100], Loss: 2.3572\n",
            "Epoch [29/100], Loss: 2.3572\n",
            "Epoch [30/100], Loss: 2.3572\n",
            "Epoch [31/100], Loss: 2.3572\n",
            "Epoch [32/100], Loss: 2.3572\n",
            "Epoch [33/100], Loss: 2.3572\n",
            "Epoch [34/100], Loss: 2.3572\n",
            "Epoch [35/100], Loss: 2.3572\n",
            "Epoch [36/100], Loss: 2.3572\n",
            "Epoch [37/100], Loss: 2.3572\n",
            "Epoch [38/100], Loss: 2.3572\n",
            "Epoch [39/100], Loss: 2.3572\n",
            "Epoch [40/100], Loss: 2.3572\n",
            "Epoch [41/100], Loss: 2.3572\n",
            "Epoch [42/100], Loss: 2.3572\n",
            "Epoch [43/100], Loss: 2.3572\n",
            "Epoch [44/100], Loss: 2.3572\n",
            "Epoch [45/100], Loss: 2.3572\n",
            "Epoch [46/100], Loss: 2.3572\n",
            "Epoch [47/100], Loss: 2.3572\n",
            "Epoch [48/100], Loss: 2.3572\n",
            "Epoch [49/100], Loss: 2.3572\n",
            "Epoch [50/100], Loss: 2.3572\n",
            "Epoch [51/100], Loss: 2.3572\n",
            "Epoch [52/100], Loss: 2.3572\n",
            "Epoch [53/100], Loss: 2.3572\n",
            "Epoch [54/100], Loss: 2.3572\n",
            "Epoch [55/100], Loss: 2.3572\n",
            "Epoch [56/100], Loss: 2.3572\n",
            "Epoch [57/100], Loss: 2.3572\n",
            "Epoch [58/100], Loss: 2.3572\n",
            "Epoch [59/100], Loss: 2.3572\n",
            "Epoch [60/100], Loss: 2.3572\n",
            "Epoch [61/100], Loss: 2.3572\n",
            "Epoch [62/100], Loss: 2.3572\n",
            "Epoch [63/100], Loss: 2.3572\n",
            "Epoch [64/100], Loss: 2.3572\n",
            "Epoch [65/100], Loss: 2.3572\n",
            "Epoch [66/100], Loss: 2.3572\n",
            "Epoch [67/100], Loss: 2.3572\n",
            "Epoch [68/100], Loss: 2.3572\n",
            "Epoch [69/100], Loss: 2.3572\n",
            "Epoch [70/100], Loss: 2.3572\n",
            "Epoch [71/100], Loss: 2.3572\n",
            "Epoch [72/100], Loss: 2.3572\n",
            "Epoch [73/100], Loss: 2.3572\n",
            "Epoch [74/100], Loss: 2.3572\n",
            "Epoch [75/100], Loss: 2.3572\n",
            "Epoch [76/100], Loss: 2.3572\n",
            "Epoch [77/100], Loss: 2.3572\n",
            "Epoch [78/100], Loss: 2.3572\n",
            "Epoch [79/100], Loss: 2.3572\n",
            "Epoch [80/100], Loss: 2.3572\n",
            "Epoch [81/100], Loss: 2.3572\n",
            "Epoch [82/100], Loss: 2.3572\n",
            "Epoch [83/100], Loss: 2.3572\n",
            "Epoch [84/100], Loss: 2.3572\n",
            "Epoch [85/100], Loss: 2.3572\n",
            "Epoch [86/100], Loss: 2.3572\n",
            "Epoch [87/100], Loss: 2.3572\n",
            "Epoch [88/100], Loss: 2.3572\n",
            "Epoch [89/100], Loss: 2.3572\n",
            "Epoch [90/100], Loss: 2.3572\n",
            "Epoch [91/100], Loss: 2.3572\n",
            "Epoch [92/100], Loss: 2.3572\n",
            "Epoch [93/100], Loss: 2.3572\n",
            "Epoch [94/100], Loss: 2.3572\n",
            "Epoch [95/100], Loss: 2.3572\n",
            "Epoch [96/100], Loss: 2.3572\n",
            "Epoch [97/100], Loss: 2.3572\n",
            "Epoch [98/100], Loss: 2.3572\n",
            "Epoch [99/100], Loss: 2.3572\n",
            "Epoch [100/100], Loss: 2.3572\n"
          ]
        }
      ]
    },
    {
      "cell_type": "code",
      "source": [
        "# set model to eval mode\n",
        "model.eval()"
      ],
      "metadata": {
        "colab": {
          "base_uri": "https://localhost:8080/"
        },
        "id": "U7lL40cuL2JT",
        "outputId": "1d23358a-278c-4fd6-de7a-bfab54d1d5d3"
      },
      "execution_count": 58,
      "outputs": [
        {
          "output_type": "execute_result",
          "data": {
            "text/plain": [
              "MyNN(\n",
              "  (model): Sequential(\n",
              "    (0): Linear(in_features=784, out_features=128, bias=True)\n",
              "    (1): ReLU()\n",
              "    (2): Linear(in_features=128, out_features=64, bias=True)\n",
              "    (3): ReLU()\n",
              "    (4): Linear(in_features=64, out_features=10, bias=True)\n",
              "    (5): Softmax(dim=1)\n",
              "  )\n",
              ")"
            ]
          },
          "metadata": {},
          "execution_count": 58
        }
      ]
    },
    {
      "source": [
        "# evaluation\n",
        "def test_model(model, test_loader):\n",
        "  model.eval()\n",
        "  correct=0\n",
        "  total=0\n",
        "  with torch.no_grad():\n",
        "    for features,labels in test_loader:\n",
        "      outputs=model(features)\n",
        "      _, predicted = torch.max(outputs,dim=1)  # Get predicted class indices\n",
        "      total+=labels.size(0)\n",
        "      correct+=(predicted==labels).sum().item()\n",
        "  accuracy=100*correct/total\n",
        "  return accuracy\n",
        "\n",
        "test_acc = test_model(model, test_loader)\n",
        "print(f\"Test Accuracy: {test_acc:.2f}%\")"
      ],
      "cell_type": "code",
      "metadata": {
        "id": "peRWlROEvoB6"
      },
      "execution_count": null,
      "outputs": []
    }
  ]
}