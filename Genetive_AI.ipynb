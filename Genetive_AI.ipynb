{
  "nbformat": 4,
  "nbformat_minor": 0,
  "metadata": {
    "colab": {
      "provenance": [],
      "gpuType": "T4",
      "authorship_tag": "ABX9TyP2ERTrJAd6d8zYFVTei0gW",
      "include_colab_link": true
    },
    "kernelspec": {
      "name": "python3",
      "display_name": "Python 3"
    },
    "language_info": {
      "name": "python"
    },
    "accelerator": "GPU",
    "widgets": {
      "application/vnd.jupyter.widget-state+json": {
        "6eea2154e67241a0987e55cd1d748d48": {
          "model_module": "@jupyter-widgets/controls",
          "model_name": "HBoxModel",
          "model_module_version": "1.5.0",
          "state": {
            "_dom_classes": [],
            "_model_module": "@jupyter-widgets/controls",
            "_model_module_version": "1.5.0",
            "_model_name": "HBoxModel",
            "_view_count": null,
            "_view_module": "@jupyter-widgets/controls",
            "_view_module_version": "1.5.0",
            "_view_name": "HBoxView",
            "box_style": "",
            "children": [
              "IPY_MODEL_bc0d0289ba9f4c11a125cc7508207d57",
              "IPY_MODEL_3d9c9c61e0424706a94a78b2ab9f88fd",
              "IPY_MODEL_97d04650ae4a4910ab8167fdf9142643"
            ],
            "layout": "IPY_MODEL_6b27e88d9685449bab69308b5665f613"
          }
        },
        "bc0d0289ba9f4c11a125cc7508207d57": {
          "model_module": "@jupyter-widgets/controls",
          "model_name": "HTMLModel",
          "model_module_version": "1.5.0",
          "state": {
            "_dom_classes": [],
            "_model_module": "@jupyter-widgets/controls",
            "_model_module_version": "1.5.0",
            "_model_name": "HTMLModel",
            "_view_count": null,
            "_view_module": "@jupyter-widgets/controls",
            "_view_module_version": "1.5.0",
            "_view_name": "HTMLView",
            "description": "",
            "description_tooltip": null,
            "layout": "IPY_MODEL_9a1172e6354e4d908c129381b718fd2f",
            "placeholder": "​",
            "style": "IPY_MODEL_ccaf7212ad4e4c97bf7754059e6774c4",
            "value": "  0%"
          }
        },
        "3d9c9c61e0424706a94a78b2ab9f88fd": {
          "model_module": "@jupyter-widgets/controls",
          "model_name": "FloatProgressModel",
          "model_module_version": "1.5.0",
          "state": {
            "_dom_classes": [],
            "_model_module": "@jupyter-widgets/controls",
            "_model_module_version": "1.5.0",
            "_model_name": "FloatProgressModel",
            "_view_count": null,
            "_view_module": "@jupyter-widgets/controls",
            "_view_module_version": "1.5.0",
            "_view_name": "ProgressView",
            "bar_style": "",
            "description": "",
            "description_tooltip": null,
            "layout": "IPY_MODEL_840a36a7ac5d4c3989671f909e6199d1",
            "max": 50,
            "min": 0,
            "orientation": "horizontal",
            "style": "IPY_MODEL_f71f4dbde927442a971e0353527718be",
            "value": 0
          }
        },
        "97d04650ae4a4910ab8167fdf9142643": {
          "model_module": "@jupyter-widgets/controls",
          "model_name": "HTMLModel",
          "model_module_version": "1.5.0",
          "state": {
            "_dom_classes": [],
            "_model_module": "@jupyter-widgets/controls",
            "_model_module_version": "1.5.0",
            "_model_name": "HTMLModel",
            "_view_count": null,
            "_view_module": "@jupyter-widgets/controls",
            "_view_module_version": "1.5.0",
            "_view_name": "HTMLView",
            "description": "",
            "description_tooltip": null,
            "layout": "IPY_MODEL_c078b4fd9d4b47ac9978da4b5a4eabc2",
            "placeholder": "​",
            "style": "IPY_MODEL_a3f7ec5473014fee974f4fa6462abcfd",
            "value": " 0/50 [00:00&lt;?, ?it/s]"
          }
        },
        "6b27e88d9685449bab69308b5665f613": {
          "model_module": "@jupyter-widgets/base",
          "model_name": "LayoutModel",
          "model_module_version": "1.2.0",
          "state": {
            "_model_module": "@jupyter-widgets/base",
            "_model_module_version": "1.2.0",
            "_model_name": "LayoutModel",
            "_view_count": null,
            "_view_module": "@jupyter-widgets/base",
            "_view_module_version": "1.2.0",
            "_view_name": "LayoutView",
            "align_content": null,
            "align_items": null,
            "align_self": null,
            "border": null,
            "bottom": null,
            "display": null,
            "flex": null,
            "flex_flow": null,
            "grid_area": null,
            "grid_auto_columns": null,
            "grid_auto_flow": null,
            "grid_auto_rows": null,
            "grid_column": null,
            "grid_gap": null,
            "grid_row": null,
            "grid_template_areas": null,
            "grid_template_columns": null,
            "grid_template_rows": null,
            "height": null,
            "justify_content": null,
            "justify_items": null,
            "left": null,
            "margin": null,
            "max_height": null,
            "max_width": null,
            "min_height": null,
            "min_width": null,
            "object_fit": null,
            "object_position": null,
            "order": null,
            "overflow": null,
            "overflow_x": null,
            "overflow_y": null,
            "padding": null,
            "right": null,
            "top": null,
            "visibility": null,
            "width": null
          }
        },
        "9a1172e6354e4d908c129381b718fd2f": {
          "model_module": "@jupyter-widgets/base",
          "model_name": "LayoutModel",
          "model_module_version": "1.2.0",
          "state": {
            "_model_module": "@jupyter-widgets/base",
            "_model_module_version": "1.2.0",
            "_model_name": "LayoutModel",
            "_view_count": null,
            "_view_module": "@jupyter-widgets/base",
            "_view_module_version": "1.2.0",
            "_view_name": "LayoutView",
            "align_content": null,
            "align_items": null,
            "align_self": null,
            "border": null,
            "bottom": null,
            "display": null,
            "flex": null,
            "flex_flow": null,
            "grid_area": null,
            "grid_auto_columns": null,
            "grid_auto_flow": null,
            "grid_auto_rows": null,
            "grid_column": null,
            "grid_gap": null,
            "grid_row": null,
            "grid_template_areas": null,
            "grid_template_columns": null,
            "grid_template_rows": null,
            "height": null,
            "justify_content": null,
            "justify_items": null,
            "left": null,
            "margin": null,
            "max_height": null,
            "max_width": null,
            "min_height": null,
            "min_width": null,
            "object_fit": null,
            "object_position": null,
            "order": null,
            "overflow": null,
            "overflow_x": null,
            "overflow_y": null,
            "padding": null,
            "right": null,
            "top": null,
            "visibility": null,
            "width": null
          }
        },
        "ccaf7212ad4e4c97bf7754059e6774c4": {
          "model_module": "@jupyter-widgets/controls",
          "model_name": "DescriptionStyleModel",
          "model_module_version": "1.5.0",
          "state": {
            "_model_module": "@jupyter-widgets/controls",
            "_model_module_version": "1.5.0",
            "_model_name": "DescriptionStyleModel",
            "_view_count": null,
            "_view_module": "@jupyter-widgets/base",
            "_view_module_version": "1.2.0",
            "_view_name": "StyleView",
            "description_width": ""
          }
        },
        "840a36a7ac5d4c3989671f909e6199d1": {
          "model_module": "@jupyter-widgets/base",
          "model_name": "LayoutModel",
          "model_module_version": "1.2.0",
          "state": {
            "_model_module": "@jupyter-widgets/base",
            "_model_module_version": "1.2.0",
            "_model_name": "LayoutModel",
            "_view_count": null,
            "_view_module": "@jupyter-widgets/base",
            "_view_module_version": "1.2.0",
            "_view_name": "LayoutView",
            "align_content": null,
            "align_items": null,
            "align_self": null,
            "border": null,
            "bottom": null,
            "display": null,
            "flex": null,
            "flex_flow": null,
            "grid_area": null,
            "grid_auto_columns": null,
            "grid_auto_flow": null,
            "grid_auto_rows": null,
            "grid_column": null,
            "grid_gap": null,
            "grid_row": null,
            "grid_template_areas": null,
            "grid_template_columns": null,
            "grid_template_rows": null,
            "height": null,
            "justify_content": null,
            "justify_items": null,
            "left": null,
            "margin": null,
            "max_height": null,
            "max_width": null,
            "min_height": null,
            "min_width": null,
            "object_fit": null,
            "object_position": null,
            "order": null,
            "overflow": null,
            "overflow_x": null,
            "overflow_y": null,
            "padding": null,
            "right": null,
            "top": null,
            "visibility": null,
            "width": null
          }
        },
        "f71f4dbde927442a971e0353527718be": {
          "model_module": "@jupyter-widgets/controls",
          "model_name": "ProgressStyleModel",
          "model_module_version": "1.5.0",
          "state": {
            "_model_module": "@jupyter-widgets/controls",
            "_model_module_version": "1.5.0",
            "_model_name": "ProgressStyleModel",
            "_view_count": null,
            "_view_module": "@jupyter-widgets/base",
            "_view_module_version": "1.2.0",
            "_view_name": "StyleView",
            "bar_color": null,
            "description_width": ""
          }
        },
        "c078b4fd9d4b47ac9978da4b5a4eabc2": {
          "model_module": "@jupyter-widgets/base",
          "model_name": "LayoutModel",
          "model_module_version": "1.2.0",
          "state": {
            "_model_module": "@jupyter-widgets/base",
            "_model_module_version": "1.2.0",
            "_model_name": "LayoutModel",
            "_view_count": null,
            "_view_module": "@jupyter-widgets/base",
            "_view_module_version": "1.2.0",
            "_view_name": "LayoutView",
            "align_content": null,
            "align_items": null,
            "align_self": null,
            "border": null,
            "bottom": null,
            "display": null,
            "flex": null,
            "flex_flow": null,
            "grid_area": null,
            "grid_auto_columns": null,
            "grid_auto_flow": null,
            "grid_auto_rows": null,
            "grid_column": null,
            "grid_gap": null,
            "grid_row": null,
            "grid_template_areas": null,
            "grid_template_columns": null,
            "grid_template_rows": null,
            "height": null,
            "justify_content": null,
            "justify_items": null,
            "left": null,
            "margin": null,
            "max_height": null,
            "max_width": null,
            "min_height": null,
            "min_width": null,
            "object_fit": null,
            "object_position": null,
            "order": null,
            "overflow": null,
            "overflow_x": null,
            "overflow_y": null,
            "padding": null,
            "right": null,
            "top": null,
            "visibility": null,
            "width": null
          }
        },
        "a3f7ec5473014fee974f4fa6462abcfd": {
          "model_module": "@jupyter-widgets/controls",
          "model_name": "DescriptionStyleModel",
          "model_module_version": "1.5.0",
          "state": {
            "_model_module": "@jupyter-widgets/controls",
            "_model_module_version": "1.5.0",
            "_model_name": "DescriptionStyleModel",
            "_view_count": null,
            "_view_module": "@jupyter-widgets/base",
            "_view_module_version": "1.2.0",
            "_view_name": "StyleView",
            "description_width": ""
          }
        }
      }
    }
  },
  "cells": [
    {
      "cell_type": "markdown",
      "metadata": {
        "id": "view-in-github",
        "colab_type": "text"
      },
      "source": [
        "<a href=\"https://colab.research.google.com/github/showmik121/Genetivie_AI/blob/main/Genetive_AI.ipynb\" target=\"_parent\"><img src=\"https://colab.research.google.com/assets/colab-badge.svg\" alt=\"Open In Colab\"/></a>"
      ]
    },
    {
      "cell_type": "markdown",
      "source": [
        "**sentimate analysis**\n",
        "\n",
        "\n",
        "\n"
      ],
      "metadata": {
        "id": "hTDF7B1-D71y"
      }
    },
    {
      "cell_type": "code",
      "source": [
        "from transformers import pipeline\n",
        "pipe = pipeline(\"text-classification\")\n",
        "pipe([\"This restaurant is awesome\", \"This restaurant is awful\"])"
      ],
      "metadata": {
        "id": "8oaKfdrr72sX"
      },
      "execution_count": null,
      "outputs": []
    },
    {
      "source": [
        "\n",
        "from transformers import pipeline\n",
        "pipe = pipeline(\"text-classification\")\n",
        "pipe([\"This restaurant is awesome\", \"This restaurant is awful\"])"
      ],
      "cell_type": "code",
      "metadata": {
        "id": "6XoISFOtue5D"
      },
      "execution_count": null,
      "outputs": []
    },
    {
      "cell_type": "code",
      "source": [
        "!pip install optimum[onnxruntime]"
      ],
      "metadata": {
        "id": "6O4Zq6JAA52g"
      },
      "execution_count": null,
      "outputs": []
    },
    {
      "cell_type": "code",
      "source": [
        "sentences = [\"This restaurant is awesome\", \"This restaurant is awful\"]\n",
        "\n",
        "from transformers import AutoTokenizer, pipeline\n",
        "from optimum.onnxruntime import ORTModelForSequenceClassification\n",
        "\n",
        "model_id = \"SamLowe/roberta-base-go_emotions-onnx\"\n",
        "file_name = \"onnx/model_quantized.onnx\"\n",
        "\n",
        "model = ORTModelForSequenceClassification.from_pretrained(model_id, file_name=file_name)\n",
        "tokenizer = AutoTokenizer.from_pretrained(model_id)\n",
        "\n",
        "onnx_classifier = pipeline(\n",
        "    task=\"text-classification\",\n",
        "    model=model,\n",
        "    tokenizer=tokenizer,\n",
        "    top_k=None,\n",
        "    function_to_apply=\"sigmoid\",  # optional as is the default for the task\n",
        ")\n",
        "\n",
        "model_outputs = onnx_classifier(sentences)\n",
        "\n",
        "print(model_outputs)"
      ],
      "metadata": {
        "id": "mB0LoYfvAlf6"
      },
      "execution_count": null,
      "outputs": []
    },
    {
      "cell_type": "markdown",
      "source": [
        "# test generation"
      ],
      "metadata": {
        "id": "LKTNuCVCFDYY"
      }
    },
    {
      "source": [
        "from transformers import pipeline\n",
        "generator = pipeline('text-generation', model='EleutherAI/gpt-neo-125M')\n",
        "generator(\"Dhaka is a capital of Bangladesh.\", do_sample=True, min_length=50)"
      ],
      "cell_type": "code",
      "metadata": {
        "id": "OVSQH2iNaqMD"
      },
      "execution_count": null,
      "outputs": []
    },
    {
      "cell_type": "code",
      "source": [
        "from transformers import pipeline,set_seed\n",
        "generator = pipeline('text-generation', model='distilgpt2')\n",
        "set_seed(42)\n",
        "generator(\"Dhaka is capital of Bangladesh.\", truncation=True, num_return_sequences=2)\n"
      ],
      "metadata": {
        "id": "SVldxWPNd02-"
      },
      "execution_count": null,
      "outputs": []
    },
    {
      "cell_type": "markdown",
      "source": [
        "# question answering"
      ],
      "metadata": {
        "id": "PGPw1YdTpQNs"
      }
    },
    {
      "cell_type": "code",
      "source": [
        "from transformers import pipeline\n",
        "nlp = pipeline(\"question-answering\")\n",
        "question=\"Where do I live?\"\n",
        "context=\"My name is Merve and I live in İstanbul.\"\n",
        "nlp(question = question, context = context)\n"
      ],
      "metadata": {
        "id": "j8NEa_EfpPOl"
      },
      "execution_count": null,
      "outputs": []
    },
    {
      "cell_type": "markdown",
      "source": [
        "# Tokenizer"
      ],
      "metadata": {
        "id": "4IbUOOm2drlQ"
      }
    },
    {
      "cell_type": "code",
      "source": [
        "from transformers import AutoTokenizer, AutoModelForSequenceClassification,DistilBertTokenizer,DistilBertForSequenceClassification\n"
      ],
      "metadata": {
        "id": "0L-AqtuNd3Bf"
      },
      "execution_count": null,
      "outputs": []
    },
    {
      "cell_type": "code",
      "source": [
        "from transformers import DistilBertTokenizer\n",
        "tokenizer = DistilBertTokenizer.from_pretrained('distilbert-base-uncased')\n",
        "\n",
        "text=\"Hello, how are you?\"\n",
        "tokens=tokenizer.tokenize(text)\n",
        "token_ids=tokenizer.convert_tokens_to_ids(tokens)\n",
        "print(\"Tokens: \",tokens)\n",
        "print(\"Token IDs: \",token_ids)"
      ],
      "metadata": {
        "colab": {
          "base_uri": "https://localhost:8080/"
        },
        "id": "maQ5GPOWf3CV",
        "outputId": "fa6fb9da-ef31-4a37-de60-3d7970e983b2"
      },
      "execution_count": null,
      "outputs": [
        {
          "output_type": "stream",
          "name": "stdout",
          "text": [
            "Tokens:  ['hello', ',', 'how', 'are', 'you', '?']\n",
            "Token IDs:  [7592, 1010, 2129, 2024, 2017, 1029]\n"
          ]
        }
      ]
    },
    {
      "cell_type": "code",
      "source": [
        "from transformers import RobertaTokenizer\n",
        "tokenizer = RobertaTokenizer.from_pretrained('roberta-base')\n",
        "text=\"Hello, how are you?\"\n",
        "tokens=tokenizer.tokenize(text)\n",
        "token_ids=tokenizer.convert_tokens_to_ids(tokens)\n",
        "print(\"Tokens: \",tokens)\n",
        "print(\"Token IDs: \",token_ids)"
      ],
      "metadata": {
        "colab": {
          "base_uri": "https://localhost:8080/"
        },
        "id": "YGOB1AA_iVBa",
        "outputId": "b0ff2d10-990d-41b7-b52d-2a146dfb6ce7"
      },
      "execution_count": null,
      "outputs": [
        {
          "output_type": "stream",
          "name": "stdout",
          "text": [
            "Tokens:  ['Hello', ',', 'Ġhow', 'Ġare', 'Ġyou', '?']\n",
            "Token IDs:  [31414, 6, 141, 32, 47, 116]\n"
          ]
        }
      ]
    },
    {
      "cell_type": "code",
      "source": [
        "from transformers import GPT2Tokenizer\n",
        "\n",
        "tokenizer = GPT2Tokenizer.from_pretrained('gpt2')\n",
        "text=\"Hello, how are you?\"\n",
        "tokens=tokenizer.tokenize(text)\n",
        "token_ids=tokenizer.convert_tokens_to_ids(tokens)\n",
        "print(\"Tokens: \",tokens)\n",
        "print(\"Token IDs: \",token_ids)\n",
        "from transformers import BertTokenizer\n",
        "\n",
        "tokenizer = BertTokenizer.from_pretrained('bert-base-uncased')\n",
        "\n",
        "encoded_inputs=tokenizer([\"hello, how are you?,I am fine,thank you.\"],\n",
        "                         padding=True,\n",
        "                         truncation=True,\n",
        "                         return_tensors='pt')\n",
        "print(\"Encoder inputs: \", encoded_inputs)"
      ],
      "metadata": {
        "colab": {
          "base_uri": "https://localhost:8080/"
        },
        "id": "yx0H_ik4jr7A",
        "outputId": "ce3e9784-8eac-4e34-85a3-55e3bc24b90f"
      },
      "execution_count": null,
      "outputs": [
        {
          "output_type": "stream",
          "name": "stdout",
          "text": [
            "Tokens:  ['Hello', ',', 'Ġhow', 'Ġare', 'Ġyou', '?']\n",
            "Token IDs:  [15496, 11, 703, 389, 345, 30]\n",
            "Encoder inputs:  {'input_ids': tensor([[ 101, 7592, 1010, 2129, 2024, 2017, 1029, 1010, 1045, 2572, 2986, 1010,\n",
            "         4067, 2017, 1012,  102]]), 'token_type_ids': tensor([[0, 0, 0, 0, 0, 0, 0, 0, 0, 0, 0, 0, 0, 0, 0, 0]]), 'attention_mask': tensor([[1, 1, 1, 1, 1, 1, 1, 1, 1, 1, 1, 1, 1, 1, 1, 1]])}\n"
          ]
        }
      ]
    },
    {
      "cell_type": "code",
      "source": [
        "from pickle import decode_long\n",
        "from transformers import BertTokenizer\n",
        "tokenizer=BertTokenizer.from_pretrained('bert-base-uncased')\n",
        "tex1=(\"Hello!,how are you?\")\n",
        "tex2=(\"I am fine,thank you.\")\n",
        "encoded_inputs=tokenizer.encode_plus(tex1,tex2,\n",
        "                         padding='max_length',\n",
        "                          add_special_tokens=True,\n",
        "                          max_length=12,\n",
        "                         truncation=True,\n",
        "                         return_tensors='pt')\n",
        "print(\"Encoder input IDs: \", encoded_inputs['input_ids'])\n",
        "print(\"Token Type IDs: \",encoded_inputs['token_type_ids'])\n",
        "print(\"Encoder attention masks: \", encoded_inputs['attention_mask'])\n",
        "# decoded the inputs ids back\n",
        "decode=tokenizer.decode(encoded_inputs['input_ids'][0],skip_special_tokens=False)\n",
        "print(decode)"
      ],
      "metadata": {
        "id": "pt8DvC8DaSSv"
      },
      "execution_count": null,
      "outputs": []
    },
    {
      "cell_type": "markdown",
      "source": [
        "# Fine Tuning"
      ],
      "metadata": {
        "id": "W3_Rb8qCS9Ny"
      }
    },
    {
      "cell_type": "code",
      "source": [
        "!pip install datasets"
      ],
      "metadata": {
        "id": "guUblO7HTWqs"
      },
      "execution_count": null,
      "outputs": []
    },
    {
      "cell_type": "code",
      "source": [
        "from datasets import load_dataset\n",
        "\n",
        "ds = load_dataset(\"imdb\")\n",
        "ds['train'][0]"
      ],
      "metadata": {
        "collapsed": true,
        "id": "TJT97AW4T7sM"
      },
      "execution_count": null,
      "outputs": []
    },
    {
      "cell_type": "code",
      "source": [
        "from transformers import AutoTokenizer\n",
        "\n",
        "tokenizer = AutoTokenizer.from_pretrained(\"bert-base-cased\")"
      ],
      "metadata": {
        "id": "4qjjSyjzXVxj"
      },
      "execution_count": null,
      "outputs": []
    },
    {
      "cell_type": "code",
      "source": [
        "# Tokenize the dataset\n",
        "def tokenize_function(examples):\n",
        "    return tokenizer(examples[\"text\"], padding=\"max_length\", truncation=True)\n",
        "\n",
        "tokenized_ds = ds.map(tokenize_function, batched=True)"
      ],
      "metadata": {
        "id": "9Dm8MQEcZJtj"
      },
      "execution_count": null,
      "outputs": []
    },
    {
      "cell_type": "code",
      "source": [
        "tokenized_ds"
      ],
      "metadata": {
        "id": "SplxmU8r1kE-"
      },
      "execution_count": null,
      "outputs": []
    },
    {
      "source": [
        "from transformers import TrainingArguments\n",
        "training_args = TrainingArguments(output_dir=\"./results\", evaluation_strategy=\"epoch\",learning_rate=2e-5,\n",
        "                                  per_device_train_batch_size=16, # Changed 'pre_device_train_batch_size' to 'per_device_train_batch_size'\n",
        "                                  per_device_eval_batch_size=16,\n",
        "                                  num_train_epochs=1,\n",
        "                                  weight_decay=0.01)\n",
        "training_args"
      ],
      "cell_type": "code",
      "metadata": {
        "id": "CarJ6hd23omi"
      },
      "execution_count": null,
      "outputs": []
    },
    {
      "cell_type": "code",
      "source": [
        "from transformers import AutoModelForSequenceClassification,Trainer\n",
        "# load the pre-trained model\n",
        "model=AutoModelForSequenceClassification.from_pretrained(\"bert-base-cased\",num_labels=2)"
      ],
      "metadata": {
        "id": "wZMulWDg4G9E"
      },
      "execution_count": null,
      "outputs": []
    },
    {
      "cell_type": "code",
      "source": [
        "# Initialize the model\n",
        "trainer = Trainer(\n",
        "    model=model,\n",
        "    args=training_args,\n",
        "    train_dataset=tokenized_ds[\"train\"],\n",
        "    eval_dataset=tokenized_ds[\"test\"],\n",
        "\n",
        ")"
      ],
      "metadata": {
        "id": "h6VM71dJ42m5"
      },
      "execution_count": null,
      "outputs": []
    },
    {
      "cell_type": "code",
      "source": [
        "# train the model\n",
        "trainer.train()"
      ],
      "metadata": {
        "id": "yXLBh_T45gBL"
      },
      "execution_count": null,
      "outputs": []
    },
    {
      "cell_type": "code",
      "source": [
        "# evelute the model\n",
        "trainer.evaluate()"
      ],
      "metadata": {
        "id": "T_amMWMgSxDV"
      },
      "execution_count": null,
      "outputs": []
    },
    {
      "cell_type": "code",
      "source": [
        "# save the mode\n",
        "model.save_pretrained(\"./fine-tuned-model\")\n",
        "tokenizer.save_pretrained(\"./fine-tuned-tokenizer\")"
      ],
      "metadata": {
        "id": "t3HTAWz5S6lY"
      },
      "execution_count": null,
      "outputs": []
    },
    {
      "cell_type": "code",
      "source": [
        "from transformers import pipeline\n",
        "\n",
        "# Load fine-tuned model\n",
        "classifier = pipeline(\"text-classification\", model=\"fine_tuned_model\", tokenizer=\"fine_tuned_tokenizer\")\n",
        "\n",
        "# Test on a new review\n",
        "review = \"The movie was absolutely fantastic! The characters were well-developed.\"\n",
        "result = classifier(review)\n",
        "\n",
        "print(result)  # Example: [{'label': 'LABEL_1', 'score': 0.9991}] (LABEL_1 = positive, LABEL_0 = negative)\n"
      ],
      "metadata": {
        "id": "eMqXilkZTpNh"
      },
      "execution_count": null,
      "outputs": []
    },
    {
      "cell_type": "markdown",
      "source": [
        "# Image Generation"
      ],
      "metadata": {
        "id": "9kTF4T5lU89s"
      }
    },
    {
      "cell_type": "code",
      "source": [
        "!nvidia-smi"
      ],
      "metadata": {
        "colab": {
          "base_uri": "https://localhost:8080/"
        },
        "id": "Tx9ugWt1aBNj",
        "outputId": "d205912a-3fcb-4969-b302-4d419cd04f32"
      },
      "execution_count": null,
      "outputs": [
        {
          "output_type": "stream",
          "name": "stdout",
          "text": [
            "/bin/bash: line 1: nvidia-smi: command not found\n"
          ]
        }
      ]
    },
    {
      "cell_type": "code",
      "source": [
        "pip install diffusers transformers accelerate scipy"
      ],
      "metadata": {
        "id": "VijSCNfJUKDg"
      },
      "execution_count": null,
      "outputs": []
    },
    {
      "cell_type": "code",
      "source": [
        "from diffusers import StableDiffusionPipeline\n",
        "import torch\n",
        "import matplotlib.pyplot as plt\n",
        "# model_id = \"CompVis/stable-diffusion-v1-4\"\n",
        "device = \"cuda\" if torch.cuda.is_available() else \"cpu\"\n",
        "# pipe = StableDiffusionPipeline.from_pretrained(model_id, torch_dtype=torch.float16)\n",
        "# pipe = pipe.to(device)"
      ],
      "metadata": {
        "id": "iSSJNMt5ZGGj"
      },
      "execution_count": null,
      "outputs": []
    },
    {
      "cell_type": "markdown",
      "source": [
        "\n",
        "\n",
        "1.   StableDiffusionPipeline: Loads the pre-trained Stable Diffusion model\n",
        "\n",
        "\n",
        "2.   torch: Used for handling tensors and GPU acceleration\n",
        "\n",
        "\n",
        "3.   matplotlib.pyplot: Used for displaying generated images\n",
        "\n",
        "4.   torch.float16:Reduces VRAM usage (important for GPUs with less than 16GB of VRAM).\n",
        "\n",
        "\n",
        "\n"
      ],
      "metadata": {
        "id": "KhT_1SZbcQbd"
      }
    },
    {
      "cell_type": "code",
      "source": [
        "pip show torch"
      ],
      "metadata": {
        "id": "G-ZymuUZiGqy"
      },
      "execution_count": null,
      "outputs": []
    },
    {
      "cell_type": "code",
      "source": [
        "model_id1=\"dreamlike-art/dreamlike-diffusion-1.0\"\n",
        "model_id2=\"stabilityai/stable-diffusion-xl-base-1.0\"\n",
        "pipe1 = StableDiffusionPipeline.from_pretrained(model_id1, torch_dtype=torch.float16,use_safetensors=True)\n",
        "pipe1 = pipe1.to(device)"
      ],
      "metadata": {
        "id": "wkSAUGeeiRKW"
      },
      "execution_count": null,
      "outputs": []
    },
    {
      "cell_type": "code",
      "source": [
        "\n",
        "prompt = \"dreamlikeart, a grungy woman with rainbow hair, travelling between dimensions, dynamic pose, happy, soft eyes and narrow chin, extreme bokeh, torn kawaii shirt and baggy jeans, In style of by Jordan Grimmer, crisp lines and color, complex background, particles, lines, wind, concept art, sharp focus, vivid colors\"\n",
        "image = pipe(prompt).images[0]\n",
        "\n",
        "image.save(\"./result.jpg\")\n"
      ],
      "metadata": {
        "colab": {
          "base_uri": "https://localhost:8080/",
          "height": 49,
          "referenced_widgets": [
            "6eea2154e67241a0987e55cd1d748d48",
            "bc0d0289ba9f4c11a125cc7508207d57",
            "3d9c9c61e0424706a94a78b2ab9f88fd",
            "97d04650ae4a4910ab8167fdf9142643",
            "6b27e88d9685449bab69308b5665f613",
            "9a1172e6354e4d908c129381b718fd2f",
            "ccaf7212ad4e4c97bf7754059e6774c4",
            "840a36a7ac5d4c3989671f909e6199d1",
            "f71f4dbde927442a971e0353527718be",
            "c078b4fd9d4b47ac9978da4b5a4eabc2",
            "a3f7ec5473014fee974f4fa6462abcfd"
          ]
        },
        "id": "iuENaHmY0KRw",
        "outputId": "1ddfc728-8669-4885-d726-df67965a8d22"
      },
      "execution_count": null,
      "outputs": [
        {
          "data": {
            "application/vnd.jupyter.widget-view+json": {
              "model_id": "6eea2154e67241a0987e55cd1d748d48",
              "version_major": 2,
              "version_minor": 0
            },
            "text/plain": [
              "  0%|          | 0/50 [00:00<?, ?it/s]"
            ]
          },
          "metadata": {},
          "output_type": "display_data"
        }
      ]
    },
    {
      "cell_type": "code",
      "source": [
        "image"
      ],
      "metadata": {
        "id": "1oHjEaMI2B7P"
      },
      "execution_count": null,
      "outputs": []
    },
    {
      "cell_type": "code",
      "source": [
        "print(\"[Prompt]: \",prompt)\n",
        "plt.imshow(image);\n",
        "plt.axis('off');"
      ],
      "metadata": {
        "id": "SGoSZX0x2-bs"
      },
      "execution_count": null,
      "outputs": []
    },
    {
      "cell_type": "markdown",
      "source": [
        "# Working with stable diffusion parameters\n",
        "\n",
        "###negative prompting\n",
        "###num_inference_steps\n",
        "###height\n",
        "###weight\n",
        "###num_image_per_prompt"
      ],
      "metadata": {
        "id": "ZMifOf-235z7"
      }
    },
    {
      "cell_type": "code",
      "source": [
        "def generate_image(pipe,prompt,params)\n",
        "  image=pipe(prompt,**params).images\n",
        "  num_images=len(image)\n",
        "  if num_images>1\n",
        "     fig,ax=plt.subplots(nrows=1,ncols=num_images)\n",
        "     for i in range(num_images):\n",
        "       ax[i].imshow(image[i])\n",
        "       ax[i].axis('off')\n",
        "  else:\n",
        "    fig=plt.figure()\n",
        "    plt.imshow(image[0]);\n",
        "    plt.axis('off');\n",
        "  plt.tight_layout()\n",
        "  plt.show()\n",
        "\n"
      ],
      "metadata": {
        "id": "1jQ_N_Wq5buB"
      },
      "execution_count": null,
      "outputs": []
    },
    {
      "cell_type": "code",
      "source": [
        "prompt=\"dreamlikeart, a grungy woman with rainbow hair, travelling between dimensions, dynamic pose, happy, soft eyes and narrow chin, extreme bokeh, torn kawaii shirt and baggy jeans, In style of by Jordan Grimmer, crisp lines and color, complex background, particles, lines, wind, concept art, sharp focus, vivid colors\"\n",
        "params={\"num_inference_steps\":50,\"height\":512,\"width\":512}\n",
        "generate_image(pipe,prompt,params)"
      ],
      "metadata": {
        "id": "0pC9Mm8w9B0K"
      },
      "execution_count": null,
      "outputs": []
    }
  ]
}