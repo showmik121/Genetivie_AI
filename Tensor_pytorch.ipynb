{
  "nbformat": 4,
  "nbformat_minor": 0,
  "metadata": {
    "colab": {
      "provenance": [],
      "gpuType": "T4",
      "authorship_tag": "ABX9TyPF1h11HOzu1K6bJWbl7b/L",
      "include_colab_link": true
    },
    "kernelspec": {
      "name": "python3",
      "display_name": "Python 3"
    },
    "language_info": {
      "name": "python"
    },
    "accelerator": "GPU"
  },
  "cells": [
    {
      "cell_type": "markdown",
      "metadata": {
        "id": "view-in-github",
        "colab_type": "text"
      },
      "source": [
        "<a href=\"https://colab.research.google.com/github/showmik121/Genetivie_AI/blob/main/Tensor_pytorch.ipynb\" target=\"_parent\"><img src=\"https://colab.research.google.com/assets/colab-badge.svg\" alt=\"Open In Colab\"/></a>"
      ]
    },
    {
      "cell_type": "markdown",
      "source": [
        "# Torch"
      ],
      "metadata": {
        "id": "XwfiI0Xvrdug"
      }
    },
    {
      "cell_type": "markdown",
      "source": [
        "**Import torch**"
      ],
      "metadata": {
        "id": "CqrRjXMTr7CY"
      }
    },
    {
      "cell_type": "code",
      "execution_count": 2,
      "metadata": {
        "id": "_wi_HmhErOqV",
        "colab": {
          "base_uri": "https://localhost:8080/"
        },
        "outputId": "43d0e76b-6e26-4865-f888-4f733f13b24d"
      },
      "outputs": [
        {
          "output_type": "stream",
          "name": "stdout",
          "text": [
            "2.5.1+cu124\n"
          ]
        }
      ],
      "source": [
        "import torch\n",
        "print(torch.__version__)"
      ]
    },
    {
      "cell_type": "code",
      "source": [
        "if torch.cuda.is_available():\n",
        "    device = torch.device(\"cuda\")\n",
        "else:\n",
        "    device = torch.device(\"cpu\")\n",
        "print(device)"
      ],
      "metadata": {
        "id": "_0KE3yJtsWaQ"
      },
      "execution_count": null,
      "outputs": []
    },
    {
      "cell_type": "markdown",
      "source": [
        "**Create a tensor**"
      ],
      "metadata": {
        "id": "lYVRE7Qotg6d"
      }
    },
    {
      "cell_type": "code",
      "source": [
        "a=torch.empty(2,3)"
      ],
      "metadata": {
        "id": "3owHw7qctgNS"
      },
      "execution_count": null,
      "outputs": []
    },
    {
      "cell_type": "code",
      "source": [
        "type(a)"
      ],
      "metadata": {
        "id": "H3tMS10yQlDm"
      },
      "execution_count": null,
      "outputs": []
    },
    {
      "cell_type": "code",
      "source": [
        "# using zeros\n",
        "torch.zeros(2,3)"
      ],
      "metadata": {
        "id": "hFpEudzrQ3Qs"
      },
      "execution_count": null,
      "outputs": []
    },
    {
      "cell_type": "code",
      "source": [
        "#using ones\n",
        "torch.ones(2,3)"
      ],
      "metadata": {
        "id": "XOupdVUORMY_"
      },
      "execution_count": null,
      "outputs": []
    },
    {
      "cell_type": "code",
      "source": [
        "#using rand\n",
        "torch.rand(2,3)"
      ],
      "metadata": {
        "id": "0hkwG-HoRUik"
      },
      "execution_count": null,
      "outputs": []
    },
    {
      "cell_type": "code",
      "source": [
        "# using seed\n",
        "torch.manual_seed(100)\n",
        "torch.rand(2,3)"
      ],
      "metadata": {
        "id": "5Nem-jLVR2w2"
      },
      "execution_count": null,
      "outputs": []
    },
    {
      "cell_type": "code",
      "source": [
        "torch.manual_seed(100)\n",
        "torch.rand(2,3)\n",
        "# same random value"
      ],
      "metadata": {
        "id": "G6RUD1wnSMRY"
      },
      "execution_count": null,
      "outputs": []
    },
    {
      "cell_type": "code",
      "source": [
        "torch.tensor([[1,2,3],[4,5,6]])"
      ],
      "metadata": {
        "id": "rghPswpDSs1-"
      },
      "execution_count": null,
      "outputs": []
    },
    {
      "cell_type": "code",
      "source": [
        "# arange\n",
        "torch.arange(0,20,2)"
      ],
      "metadata": {
        "id": "2XclSYqDTXLh"
      },
      "execution_count": null,
      "outputs": []
    },
    {
      "cell_type": "code",
      "source": [
        "# linspace\n",
        "torch.linspace(0,10,10)"
      ],
      "metadata": {
        "id": "7zWQLRD4TURl"
      },
      "execution_count": null,
      "outputs": []
    },
    {
      "cell_type": "code",
      "source": [
        "# eye- indentiti matrix\n",
        "torch.eye(5)"
      ],
      "metadata": {
        "id": "JhBNaiuAUGPk"
      },
      "execution_count": null,
      "outputs": []
    },
    {
      "cell_type": "code",
      "source": [
        "# full\n",
        "torch.full((3,3),5)"
      ],
      "metadata": {
        "id": "mCN_ZMutUY_7"
      },
      "execution_count": null,
      "outputs": []
    },
    {
      "cell_type": "markdown",
      "source": [
        "**Tensor Shapes**"
      ],
      "metadata": {
        "id": "ZbvDfQY5Uqr0"
      }
    },
    {
      "cell_type": "code",
      "source": [
        "x=torch.tensor([[1,2,3],[4,5,6]])\n",
        "x"
      ],
      "metadata": {
        "id": "WiBQPwGrU0Kd"
      },
      "execution_count": null,
      "outputs": []
    },
    {
      "cell_type": "code",
      "source": [
        "x.shape"
      ],
      "metadata": {
        "colab": {
          "base_uri": "https://localhost:8080/"
        },
        "id": "IHgslA3jVWzm",
        "outputId": "6c61a1e4-471f-4267-8ff4-02312a4fde63"
      },
      "execution_count": null,
      "outputs": [
        {
          "output_type": "execute_result",
          "data": {
            "text/plain": [
              "torch.Size([2, 3])"
            ]
          },
          "metadata": {},
          "execution_count": 35
        }
      ]
    },
    {
      "cell_type": "code",
      "source": [
        "# tensor shape copy\n",
        "torch.empty_like(x)"
      ],
      "metadata": {
        "id": "sPDfirfOVqlP"
      },
      "execution_count": null,
      "outputs": []
    },
    {
      "cell_type": "code",
      "source": [
        "torch.zeros_like(x)\n"
      ],
      "metadata": {
        "id": "WMJQElsoWBos"
      },
      "execution_count": null,
      "outputs": []
    },
    {
      "cell_type": "code",
      "source": [
        "torch.rand_like(x,dtype=torch.float32)"
      ],
      "metadata": {
        "id": "Ve7YOWs6Y_jp"
      },
      "execution_count": null,
      "outputs": []
    },
    {
      "cell_type": "markdown",
      "source": [
        "**Tensor Data Type**"
      ],
      "metadata": {
        "id": "eFFAGJeKWfBM"
      }
    },
    {
      "cell_type": "code",
      "source": [
        "# find data type\n",
        "x.dtype\n"
      ],
      "metadata": {
        "id": "WK80sP4xWnvD"
      },
      "execution_count": null,
      "outputs": []
    },
    {
      "cell_type": "code",
      "source": [
        "# assign data type\n",
        "x=torch.tensor([[1,2,3],[4,5,6]],dtype=torch.float32)\n",
        "x"
      ],
      "metadata": {
        "id": "rjDZiK_iXDUd"
      },
      "execution_count": null,
      "outputs": []
    },
    {
      "cell_type": "code",
      "source": [
        "x=torch.tensor([[1.0,3.0,4.0],[2.0,4.0,5.0]],dtype=torch.int32)\n",
        "x"
      ],
      "metadata": {
        "id": "ZV7dJE4TXVP7"
      },
      "execution_count": null,
      "outputs": []
    },
    {
      "cell_type": "code",
      "source": [
        "# to()-change data type\n",
        "x.to(torch.float64)"
      ],
      "metadata": {
        "id": "ArciglLEYLFJ"
      },
      "execution_count": null,
      "outputs": []
    },
    {
      "cell_type": "markdown",
      "source": [
        "# Mathematical Operation"
      ],
      "metadata": {
        "id": "MOfm_w2Kake-"
      }
    },
    {
      "cell_type": "code",
      "source": [
        "x=torch.rand(2,2)\n",
        "x"
      ],
      "metadata": {
        "id": "xH9OVjn3a1PJ"
      },
      "execution_count": null,
      "outputs": []
    },
    {
      "cell_type": "code",
      "source": [
        "# addition\n",
        "x+2"
      ],
      "metadata": {
        "id": "n1BI2HgabFGm"
      },
      "execution_count": null,
      "outputs": []
    },
    {
      "cell_type": "code",
      "source": [
        "# sunstruction\n",
        "x-2"
      ],
      "metadata": {
        "id": "9ctvpi09bPbL"
      },
      "execution_count": null,
      "outputs": []
    },
    {
      "cell_type": "code",
      "source": [
        "# multification\n",
        "x*3"
      ],
      "metadata": {
        "id": "ZbdxJAvFbWJ4"
      },
      "execution_count": null,
      "outputs": []
    },
    {
      "cell_type": "code",
      "source": [
        "# division\n",
        "x/3"
      ],
      "metadata": {
        "id": "yFJ5MYknbrYy"
      },
      "execution_count": null,
      "outputs": []
    },
    {
      "cell_type": "code",
      "source": [
        "# int division\n",
        "x*3//3"
      ],
      "metadata": {
        "id": "k4G8pRUwbwMw"
      },
      "execution_count": null,
      "outputs": []
    },
    {
      "cell_type": "code",
      "source": [
        "b=torch.rand(2,2)\n",
        "b"
      ],
      "metadata": {
        "id": "wR35LcShdmw0"
      },
      "execution_count": null,
      "outputs": []
    },
    {
      "cell_type": "code",
      "source": [
        "# add\n",
        "torch.add(x,b)"
      ],
      "metadata": {
        "id": "ltJjc_5Jd4RN"
      },
      "execution_count": null,
      "outputs": []
    },
    {
      "cell_type": "code",
      "source": [
        "# sub\n",
        "# multiply\n",
        "torch.multiply(x,b)"
      ],
      "metadata": {
        "id": "a0uvinANeJq9"
      },
      "execution_count": null,
      "outputs": []
    },
    {
      "cell_type": "code",
      "source": [
        "c=torch.tensor([[1,-2],[-3,4]])\n",
        "c"
      ],
      "metadata": {
        "id": "iQsD27YQexuS"
      },
      "execution_count": null,
      "outputs": []
    },
    {
      "cell_type": "code",
      "source": [
        "# abs\n",
        "torch.abs(c)"
      ],
      "metadata": {
        "id": "qGeufFW2fARQ"
      },
      "execution_count": null,
      "outputs": []
    },
    {
      "cell_type": "code",
      "source": [
        "# neg\n",
        "torch.neg(c)"
      ],
      "metadata": {
        "id": "RgrfsLPxfKpa"
      },
      "execution_count": null,
      "outputs": []
    },
    {
      "cell_type": "code",
      "source": [
        "d=torch.tensor([1.2,3.5,1.7,3.9])\n",
        "d"
      ],
      "metadata": {
        "id": "JkCgB5yhfWzj"
      },
      "execution_count": null,
      "outputs": []
    },
    {
      "cell_type": "code",
      "source": [
        "# round\n",
        "torch.round(d)\n"
      ],
      "metadata": {
        "id": "xCnpuMR8fl7H"
      },
      "execution_count": null,
      "outputs": []
    },
    {
      "cell_type": "code",
      "source": [
        "# ceil\n",
        "torch.ceil(d)"
      ],
      "metadata": {
        "id": "91w5yAvSgF3x"
      },
      "execution_count": null,
      "outputs": []
    },
    {
      "cell_type": "code",
      "source": [
        "# clamp\n",
        "torch.clamp(d,min=2,max=3)"
      ],
      "metadata": {
        "id": "oVs3S-FWhxnC"
      },
      "execution_count": null,
      "outputs": []
    },
    {
      "cell_type": "markdown",
      "source": [
        "**Reduction**"
      ],
      "metadata": {
        "id": "cj8smYY0iKPZ"
      }
    },
    {
      "cell_type": "code",
      "source": [
        "e=torch.randint(size=(2,3),low=0,high=100)\n",
        "e"
      ],
      "metadata": {
        "id": "3kOMvgqEiHJ6"
      },
      "execution_count": null,
      "outputs": []
    },
    {
      "cell_type": "code",
      "source": [
        "# sum\n",
        "torch.sum(e)"
      ],
      "metadata": {
        "id": "kk_hf60vn3mW"
      },
      "execution_count": null,
      "outputs": []
    },
    {
      "cell_type": "code",
      "source": [
        "# sum among colum\n",
        "torch.sum(e,dim=0)"
      ],
      "metadata": {
        "id": "VaG7Oo2Zon3a"
      },
      "execution_count": null,
      "outputs": []
    },
    {
      "cell_type": "code",
      "source": [
        "# sum among rows\n",
        "torch.sum(e,dim=1)"
      ],
      "metadata": {
        "id": "TkN9yglKpgCM"
      },
      "execution_count": null,
      "outputs": []
    },
    {
      "source": [
        "# mean\n",
        "torch.mean(e.type(torch.float32)) # Change the data type of tensor 'e' to float32 before calculating the mean"
      ],
      "cell_type": "code",
      "metadata": {
        "id": "iP4qCnHtq3Jh"
      },
      "execution_count": null,
      "outputs": []
    },
    {
      "cell_type": "code",
      "source": [
        "torch.mean(e.type(torch.float32),dim=0)"
      ],
      "metadata": {
        "id": "i8Yw1T_ssJxM"
      },
      "execution_count": null,
      "outputs": []
    },
    {
      "cell_type": "code",
      "source": [
        "# argmax\n",
        "torch.argmax(e)"
      ],
      "metadata": {
        "colab": {
          "base_uri": "https://localhost:8080/"
        },
        "id": "_LAqm74vswFQ",
        "outputId": "e4399283-3408-4532-cbc6-60c22c628dc2"
      },
      "execution_count": null,
      "outputs": [
        {
          "output_type": "execute_result",
          "data": {
            "text/plain": [
              "tensor(5)"
            ]
          },
          "metadata": {},
          "execution_count": 68
        }
      ]
    },
    {
      "cell_type": "code",
      "source": [
        "# argmin\n",
        "torch.argmin(e)"
      ],
      "metadata": {
        "colab": {
          "base_uri": "https://localhost:8080/"
        },
        "id": "Z9lFl35ys3Zr",
        "outputId": "614d4e8b-0167-4fde-b19c-99637687e264"
      },
      "execution_count": null,
      "outputs": [
        {
          "output_type": "execute_result",
          "data": {
            "text/plain": [
              "tensor(0)"
            ]
          },
          "metadata": {},
          "execution_count": 69
        }
      ]
    },
    {
      "cell_type": "markdown",
      "source": [
        "# Matrix Operation"
      ],
      "metadata": {
        "id": "8vl0lJ46tGSU"
      }
    },
    {
      "cell_type": "code",
      "source": [
        "f=torch.randint(size=(2,3),low=0,high=10)\n",
        "g=torch.randint(size=(3,2),low=0,high=10)\n",
        "print(f)\n",
        "print(g)"
      ],
      "metadata": {
        "id": "d9Ypcf2qtPHI"
      },
      "execution_count": null,
      "outputs": []
    },
    {
      "cell_type": "code",
      "source": [
        "# matrix multiplication\n",
        "torch.matmul(f,g)"
      ],
      "metadata": {
        "id": "R3P29mzbufML"
      },
      "execution_count": null,
      "outputs": []
    },
    {
      "cell_type": "code",
      "source": [
        "#  dot product\n",
        "vector1=torch.tensor([1,2,3])\n",
        "vector2=torch.tensor([4,5,6])\n",
        "torch.dot(vector1,vector2)"
      ],
      "metadata": {
        "id": "MsR5QwoZur2m"
      },
      "execution_count": null,
      "outputs": []
    },
    {
      "cell_type": "code",
      "source": [
        "# sigmoid\n",
        "torch.sigmoid(torch.tensor([1.0,2.0,4.0]))"
      ],
      "metadata": {
        "id": "Wpy6M6KwwWUN"
      },
      "execution_count": null,
      "outputs": []
    },
    {
      "cell_type": "code",
      "source": [
        "# softmax\n",
        "torch.softmax(torch.tensor([1.0,2.0,4.0]),dim=0)"
      ],
      "metadata": {
        "id": "QQi4Fq_2wodC"
      },
      "execution_count": null,
      "outputs": []
    },
    {
      "cell_type": "code",
      "source": [
        "# relu\n",
        "torch.relu(torch.tensor([1.0,-2.0,4.0]))"
      ],
      "metadata": {
        "id": "LdN7LCvUwybH"
      },
      "execution_count": null,
      "outputs": []
    },
    {
      "cell_type": "markdown",
      "source": [
        "# Inplace Operatin"
      ],
      "metadata": {
        "id": "NZ7sGSIzx7Jm"
      }
    },
    {
      "cell_type": "code",
      "source": [
        "m=torch.tensor([1.9,3.0,4.0])\n",
        "m"
      ],
      "metadata": {
        "colab": {
          "base_uri": "https://localhost:8080/"
        },
        "id": "ej03CQu4yY9x",
        "outputId": "3294f513-b786-4ba3-e7d9-f989c3f1ad99"
      },
      "execution_count": null,
      "outputs": [
        {
          "output_type": "execute_result",
          "data": {
            "text/plain": [
              "tensor([1.9000, 3.0000, 4.0000])"
            ]
          },
          "metadata": {},
          "execution_count": 80
        }
      ]
    },
    {
      "cell_type": "code",
      "source": [
        "torch.softmax(m,dim=0)"
      ],
      "metadata": {
        "colab": {
          "base_uri": "https://localhost:8080/"
        },
        "id": "Q3ZzUu-RzPBj",
        "outputId": "bf4c69a3-e08d-47dc-b328-1c2596e05ca4"
      },
      "execution_count": null,
      "outputs": [
        {
          "output_type": "execute_result",
          "data": {
            "text/plain": [
              "tensor([0.3303, 0.3318, 0.3379])"
            ]
          },
          "metadata": {},
          "execution_count": 90
        }
      ]
    },
    {
      "source": [
        "# calculate softmax and get the result as a new tensor\n",
        "m = m.softmax(dim=0) # assign the result to update 'm' with the softmax values\n",
        "m"
      ],
      "cell_type": "code",
      "metadata": {
        "colab": {
          "base_uri": "https://localhost:8080/"
        },
        "id": "Bd1qxvgz0Dks",
        "outputId": "8275d25b-9049-4065-f358-55ed644b2b18"
      },
      "execution_count": null,
      "outputs": [
        {
          "output_type": "execute_result",
          "data": {
            "text/plain": [
              "tensor([0.3303, 0.3318, 0.3379])"
            ]
          },
          "metadata": {},
          "execution_count": 91
        }
      ]
    },
    {
      "cell_type": "code",
      "source": [
        "# inplace\n",
        "m.relu_()"
      ],
      "metadata": {
        "colab": {
          "base_uri": "https://localhost:8080/"
        },
        "id": "HTNY6yxb0LrW",
        "outputId": "53721148-c983-44cf-e1b1-0055410d9ff2"
      },
      "execution_count": null,
      "outputs": [
        {
          "output_type": "execute_result",
          "data": {
            "text/plain": [
              "tensor([0.0822, 0.2468, 0.6710])"
            ]
          },
          "metadata": {},
          "execution_count": 86
        }
      ]
    },
    {
      "cell_type": "markdown",
      "source": [
        "**Copy a tensor**"
      ],
      "metadata": {
        "id": "pI5_WUht0pvf"
      }
    },
    {
      "cell_type": "code",
      "source": [
        "# clone\n",
        "a=torch.tensor([[1,2,3],[4,5,6]])\n",
        "b=a.clone()\n",
        "b"
      ],
      "metadata": {
        "id": "vaY3SRPu0zLi"
      },
      "execution_count": null,
      "outputs": []
    },
    {
      "cell_type": "markdown",
      "source": [
        "# Tensor operation on GPU"
      ],
      "metadata": {
        "id": "iu0gqDot11dL"
      }
    },
    {
      "cell_type": "code",
      "source": [
        "torch.cuda.is_available()"
      ],
      "metadata": {
        "colab": {
          "base_uri": "https://localhost:8080/"
        },
        "id": "tf8gyZib17tB",
        "outputId": "48631cf8-29f8-4800-b3d5-4f4c59db378d"
      },
      "execution_count": null,
      "outputs": [
        {
          "output_type": "execute_result",
          "data": {
            "text/plain": [
              "True"
            ]
          },
          "metadata": {},
          "execution_count": 94
        }
      ]
    },
    {
      "cell_type": "code",
      "source": [
        "device=torch.device(\"cuda\")"
      ],
      "metadata": {
        "id": "g2lci7Wr2MqI"
      },
      "execution_count": null,
      "outputs": []
    },
    {
      "cell_type": "code",
      "source": [
        "torch.rand(2,3).to(device)"
      ],
      "metadata": {
        "id": "N1WJCFw92Yho"
      },
      "execution_count": null,
      "outputs": []
    },
    {
      "cell_type": "markdown",
      "source": [
        "# Reshapping Tensor"
      ],
      "metadata": {
        "id": "hxaOLUOVgtKj"
      }
    },
    {
      "cell_type": "code",
      "source": [
        "a=torch.ones(4,4)\n",
        "a"
      ],
      "metadata": {
        "id": "BF_bAXungzQJ"
      },
      "execution_count": null,
      "outputs": []
    },
    {
      "cell_type": "code",
      "source": [
        "# reshape\n",
        "a.reshape(2,2,2,2)"
      ],
      "metadata": {
        "id": "xL-qqo34hTtm"
      },
      "execution_count": null,
      "outputs": []
    },
    {
      "cell_type": "code",
      "source": [
        "# flatten\n",
        "a.flatten()"
      ],
      "metadata": {
        "id": "ga-_HHWih3p3"
      },
      "execution_count": null,
      "outputs": []
    },
    {
      "cell_type": "code",
      "source": [
        "b=torch.rand(2,3,4)\n",
        "b"
      ],
      "metadata": {
        "id": "Gxk7GlwEiMK8"
      },
      "execution_count": null,
      "outputs": []
    },
    {
      "cell_type": "code",
      "source": [
        "# permute\n",
        "b.permute(2,0,1).shape"
      ],
      "metadata": {
        "id": "F8s3TXrsiAPa"
      },
      "execution_count": null,
      "outputs": []
    },
    {
      "cell_type": "code",
      "source": [
        "# unsqueeze\n",
        "# image size\n",
        "c=torch.rand(3,224,224)\n",
        "c.unsqueeze(0).shape"
      ],
      "metadata": {
        "id": "F6JpWseijh7Y"
      },
      "execution_count": null,
      "outputs": []
    },
    {
      "cell_type": "code",
      "source": [
        "# squeeze\n",
        "d=torch.rand(1,3,224,224)\n",
        "d.squeeze(0).shape\n",
        "# delet 0 dimention"
      ],
      "metadata": {
        "id": "Uy_U4OEXj6mf"
      },
      "execution_count": null,
      "outputs": []
    },
    {
      "cell_type": "markdown",
      "source": [
        "# NumPy and PyTorch"
      ],
      "metadata": {
        "id": "IAIZW18xklHt"
      }
    },
    {
      "cell_type": "code",
      "source": [
        "import numpy as np\n"
      ],
      "metadata": {
        "id": "J4zHsxNkkgTi"
      },
      "execution_count": 21,
      "outputs": []
    },
    {
      "cell_type": "code",
      "source": [
        "a=torch.tensor([1,2,3,4])"
      ],
      "metadata": {
        "id": "Go7Rw1ujlK9l"
      },
      "execution_count": 22,
      "outputs": []
    },
    {
      "cell_type": "code",
      "source": [
        "b=a.numpy()\n",
        "b"
      ],
      "metadata": {
        "colab": {
          "base_uri": "https://localhost:8080/"
        },
        "id": "JO9C1tIDlTI_",
        "outputId": "48f5a113-794f-43aa-8786-86348d8e9914"
      },
      "execution_count": 25,
      "outputs": [
        {
          "output_type": "execute_result",
          "data": {
            "text/plain": [
              "array([1, 2, 3, 4])"
            ]
          },
          "metadata": {},
          "execution_count": 25
        }
      ]
    },
    {
      "cell_type": "code",
      "source": [
        "type(b)"
      ],
      "metadata": {
        "colab": {
          "base_uri": "https://localhost:8080/"
        },
        "id": "GSg2O3qplfkI",
        "outputId": "6e00bb9b-15dd-4f04-a213-d3f117bab37c"
      },
      "execution_count": 26,
      "outputs": [
        {
          "output_type": "execute_result",
          "data": {
            "text/plain": [
              "numpy.ndarray"
            ]
          },
          "metadata": {},
          "execution_count": 26
        }
      ]
    },
    {
      "cell_type": "code",
      "source": [
        "c=np.array([1,2,3])\n",
        "c"
      ],
      "metadata": {
        "id": "6MHp5RL0ltBJ"
      },
      "execution_count": null,
      "outputs": []
    },
    {
      "source": [
        "torch.from_numpy(c) # Use 'from_numpy' instead of 'form_numpy' to convert the NumPy array 'c' to a PyTorch tensor."
      ],
      "cell_type": "code",
      "metadata": {
        "colab": {
          "base_uri": "https://localhost:8080/"
        },
        "id": "a52qH7J3mG7P",
        "outputId": "fdd7eb72-5ae6-4be5-bdd8-86da850a7020"
      },
      "execution_count": 29,
      "outputs": [
        {
          "output_type": "execute_result",
          "data": {
            "text/plain": [
              "tensor([1, 2, 3])"
            ]
          },
          "metadata": {},
          "execution_count": 29
        }
      ]
    }
  ]
}